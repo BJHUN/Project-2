{
 "cells": [
  {
   "cell_type": "code",
   "execution_count": null,
   "id": "32420f72",
   "metadata": {},
   "outputs": [],
   "source": [
    "import pandas as pd\n",
    "from sqlalchemy import create_engine"
   ]
  },
  {
   "cell_type": "code",
   "execution_count": null,
   "id": "79662bb5",
   "metadata": {},
   "outputs": [],
   "source": [
    "# upload csv file\n",
    "csv_file = \"../Resources/customer_data.csv\"\n",
    "customer_data_df = pd.read_csv(csv_file)\n",
    "customer_data_df.head()"
   ]
  },
  {
   "cell_type": "code",
   "execution_count": null,
   "id": "9633f044",
   "metadata": {},
   "outputs": [],
   "source": [
    "# use read_csv method to convert file"
   ]
  },
  {
   "cell_type": "code",
   "execution_count": null,
   "id": "6b227643",
   "metadata": {},
   "outputs": [],
   "source": [
    "# make dataframe "
   ]
  },
  {
   "cell_type": "code",
   "execution_count": null,
   "id": "8eb535ba",
   "metadata": {},
   "outputs": [],
   "source": [
    "# connect to local database \n",
    "rds_connection_string = \"<insert user name>:<postgres:postgress>@localhost:5432/customer\"\n",
    "engine = create_engine(f'postgresql://{rds_connection_string}')"
   ]
  },
  {
   "cell_type": "code",
   "execution_count": null,
   "id": "9fa3b51c",
   "metadata": {},
   "outputs": [],
   "source": [
    "# clean dataframe"
   ]
  },
  {
   "cell_type": "code",
   "execution_count": null,
   "id": "98949a41",
   "metadata": {},
   "outputs": [],
   "source": [
    "# connect to local database"
   ]
  },
  {
   "cell_type": "code",
   "execution_count": null,
   "id": "c695ff34",
   "metadata": {},
   "outputs": [],
   "source": [
    "# check for tables"
   ]
  },
  {
   "cell_type": "code",
   "execution_count": null,
   "id": "3c0b46a9",
   "metadata": {},
   "outputs": [],
   "source": [
    "# use pandas to load csv converted DF into DB"
   ]
  },
  {
   "cell_type": "code",
   "execution_count": null,
   "id": "b97bcf1b",
   "metadata": {},
   "outputs": [],
   "source": [
    "### Confirm data has been added by querying the table\n",
    " #NOTE: can also check using pgAdmin"
   ]
  },
  {
   "cell_type": "code",
   "execution_count": null,
   "id": "1f9e940f",
   "metadata": {},
   "outputs": [],
   "source": []
  }
 ],
 "metadata": {
  "kernelspec": {
   "display_name": "Python 3",
   "language": "python",
   "name": "python3"
  },
  "language_info": {
   "codemirror_mode": {
    "name": "ipython",
    "version": 3
   },
   "file_extension": ".py",
   "mimetype": "text/x-python",
   "name": "python",
   "nbconvert_exporter": "python",
   "pygments_lexer": "ipython3",
   "version": "3.8.8"
  }
 },
 "nbformat": 4,
 "nbformat_minor": 5
}
